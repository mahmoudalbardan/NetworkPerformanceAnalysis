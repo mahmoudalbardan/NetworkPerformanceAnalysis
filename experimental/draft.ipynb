{
 "cells": [
  {
   "cell_type": "code",
   "id": "initial_id",
   "metadata": {
    "collapsed": true,
    "ExecuteTime": {
     "end_time": "2025-04-30T07:57:02.153038Z",
     "start_time": "2025-04-30T07:57:02.142739Z"
    }
   },
   "source": [
    "# import pandas as pd\n",
    "#\n",
    "# df = pd.read_csv(\"C:/Users/mahmo/Documents/NetworkPerformanceAnalysis/data/train.csv\",sep=\";\")\n",
    "# dictionary_skewness = {}\n",
    "# oss_counters = ['PRBUsageUL', 'PRBUsageDL', 'meanThr_DL',\n",
    "#        'meanThr_UL', 'maxThr_DL', 'maxThr_UL', 'meanUE_DL', 'meanUE_UL',\n",
    "#        'maxUE_DL', 'maxUE_UL', 'maxUE_UL+DL']\n",
    "#\n",
    "# def add_datetime(df_one_cell):\n",
    "#     df_one_cell[\"temp_Time\"] = pd.to_datetime(df_one_cell[\"Time\"],format=\"%H:%M\")\n",
    "#     df_one_cell = df_one_cell.sort_values([\"temp_Time\"])\n",
    "#     df_one_cell[\"day\"] = df_one_cell.groupby([\"Time\"]).cumcount()\n",
    "#     df_one_cell[\"datetime\"] = pd.to_datetime(\"2025-01-01\")+ \\\n",
    "#                      pd.to_timedelta(df_one_cell[\"day\"],unit=\"D\")+ \\\n",
    "#                      pd.to_timedelta(df_one_cell[\"temp_Time\"].dt.hour*60+\n",
    "#                      df_one_cell[\"temp_Time\"].dt.minute,unit=\"m\")\n",
    "#     df_one_cell.drop(columns=[\"Time\",\"temp_Time\",\"day\"], inplace=True)\n",
    "#     return df_one_cell\n",
    "#\n",
    "# list_rolling_skewness_all_cells = []\n",
    "# for cell_name in df[\"CellName\"].unique():\n",
    "#     df_one_cell = df[df[\"CellName\"] == cell_name]\n",
    "#     df_one_cell = add_datetime(df_one_cell)\n",
    "#     df_one_cell = df_one_cell.sort_values(by=\"datetime\")\n",
    "#     list_rolling_skewness_one_cell = []\n",
    "#     for oss_counter in oss_counters:\n",
    "#         rolling_arr_skew = df_one_cell[oss_counter].rolling(window=96, min_periods=1).skew()\n",
    "#         list_rolling_skewness_one_cell.append(rolling_arr_skew.mean())\n",
    "#     list_rolling_skewness_all_cells.append(list_rolling_skewness_one_cell)\n",
    "# df_skewness = pd.DataFrame(np.array(list_rolling_skewness_all_cells),columns=oss_counters)\n",
    "# #df_skewness.abs().flatten()\n",
    "# pd.DataFrame(np.array(list_rolling_skewness_all_cells).flatten()).abs().describe()\n",
    "\n",
    "# def detect_replace_outliers_zscore(df_one_cell, oss_counter,window, threshold):\n",
    "#     df_one_cell_copy = df_one_cell.copy()\n",
    "#     rolling_mean = df_one_cell_copy[oss_counter].rolling(window=96, min_periods=1).mean()\n",
    "#     rolling_std =df_one_cell_copy[oss_counter].rolling(window=96, min_periods=1).std()\n",
    "#     z_scores = (df_one_cell_copy[oss_counter][window:]-rolling_mean[window:])/rolling_std[window:]\n",
    "#     outliers = z_scores.abs()>threshold\n",
    "#     df_one_cell_copy.loc[outliers[outliers == True].index, oss_counter] = np.nan\n",
    "#     df_one_cell_copy[oss_counter] = df_one_cell_copy[oss_counter].interpolate(method=\"time\", limit_direction=\"both\")\n",
    "#     return df_one_cell_copy[oss_counter]\n",
    "\n",
    "# def detect_replace_outliers_both(df_one_cell, oss_counter, window, threshold_zscore, coefficient_iqr):\n",
    "#     df_copy = df_one_cell.copy()\n",
    "#     # rolling_skew = df_copy[oss_counter].rolling(window=window, min_periods=1).skew().abs().mean()\n",
    "#     # if -1 < rolling_skew < 1: # considered as normal distribution\n",
    "#     #     rolling_mean = df_copy[oss_counter].rolling(window=window, min_periods=1).mean()\n",
    "#     #     rolling_std = df_copy[oss_counter].rolling(window=window, min_periods=1).std()\n",
    "#     #     z_scores = (df_copy[oss_counter][window:] - rolling_mean[window:]) / rolling_std[window:]\n",
    "#     #     outliers = z_scores.abs() > threshold_zscore\n",
    "#     # else: # if it is not normaly distributed\n",
    "#     q1 = np.percentile(df_copy[oss_counter].values, 25)\n",
    "#     q3 = np.percentile(df_copy[oss_counter].values, 75)\n",
    "#     iqr = q3 - q1 # interquartile range\n",
    "#     lower_bound = q1-coefficient_iqr*iqr\n",
    "#     upper_bound = q3+coefficient_iqr*iqr\n",
    "#     outliers = df_copy[(df_copy[oss_counter] < lower_bound) &\n",
    "#                        (df_copy[oss_counter] > upper_bound )]\n",
    "#     df_copy.loc[outliers[outliers].index, oss_counter] = np.nan\n",
    "#     df_copy[oss_counter] = df_copy[oss_counter].interpolate(method=\"time\", limit_direction=\"both\")\n",
    "#     return df_copy[oss_counter]"
   ],
   "outputs": [],
   "execution_count": 1
  }
 ],
 "metadata": {
  "kernelspec": {
   "display_name": "Python [conda env:base] *",
   "language": "python",
   "name": "conda-base-py"
  },
  "language_info": {
   "codemirror_mode": {
    "name": "ipython",
    "version": 2
   },
   "file_extension": ".py",
   "mimetype": "text/x-python",
   "name": "python",
   "nbconvert_exporter": "python",
   "pygments_lexer": "ipython2",
   "version": "2.7.6"
  }
 },
 "nbformat": 4,
 "nbformat_minor": 5
}
